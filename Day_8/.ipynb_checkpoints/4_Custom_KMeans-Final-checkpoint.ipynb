{
 "cells": [
  {
   "cell_type": "code",
   "execution_count": 51,
   "metadata": {},
   "outputs": [],
   "source": [
    "import numpy as np\n",
    "import pandas as pd\n",
    "import matplotlib.pyplot as plt\n",
    "from sklearn.datasets import make_blobs\n",
    "import seaborn as sns\n",
    "from sklearn.cluster import KMeans"
   ]
  },
  {
   "cell_type": "code",
   "execution_count": 52,
   "metadata": {},
   "outputs": [],
   "source": [
    "X, y = make_blobs(centers=3, random_state=42)"
   ]
  },
  {
   "cell_type": "code",
   "execution_count": 53,
   "metadata": {},
   "outputs": [],
   "source": [
    "import random"
   ]
  },
  {
   "cell_type": "code",
   "execution_count": 54,
   "metadata": {},
   "outputs": [],
   "source": [
    "# Every cluster has a center point and points associated to it\n",
    "class Cluster:\n",
    "    # Each cluster has a center and points asscoiated to it\n",
    "    def __init__(self, center):\n",
    "        self.center = center\n",
    "        self.points = []\n",
    "    \n",
    "    # Distance between cluster center and point\n",
    "    def distance(self, point):\n",
    "        return np.sqrt(np.sum((point - self.center)**2))\n",
    "        \n",
    "class CustomKMeans:\n",
    "    # n_clusters OR K : number of clusters we assume. Can be determined by elbow method\n",
    "    # max_iters       : default: 300. After each run of algo, center of cluster moves to the mean of the points. This basically controls \n",
    "    #                  number of times center of cluster shifts to the mean value\n",
    "    # n_init          : default=10. Number of time the k-means algorithm will be run with different centroid seeds. i.e Initially we run \n",
    "    #                   the algorithm with random cluster centers. But those centers may be poor choice. Hence, run the KMeans with different\n",
    "    #                   initial random choice\n",
    "    def __init__(self, n_clusters=3, max_iters=20, n_init=10):\n",
    "        self.n_clusters = n_clusters\n",
    "        self.max_iters = max_iters\n",
    "        self.n_init = n_init\n",
    "        \n",
    "    def fit(self, X):\n",
    "        \n",
    "        self._X = X\n",
    "        steps = []\n",
    "        \n",
    "        # Run algo n_init times for different initial Random choice\n",
    "        for simulation in range(self.n_init):\n",
    "        \n",
    "            # first we want to create clusters. This list contains the clusters[centre, associated points]\n",
    "            clusters=[]\n",
    "            # self.n_clusters: number of clusters we want to create\n",
    "            for i in range(self.n_clusters):\n",
    "                # cluster is object of class Cluster. We choose a random point from X as centre of cluster.\n",
    "                # Initially, no points are associated with cluster centers\n",
    "                cluster = Cluster(center=random.choice(X))\n",
    "                # Each element in list is object of Cluster class or simply a Cluster\n",
    "                clusters.append(cluster)\n",
    "\n",
    "            errors = []\n",
    "            \n",
    "            # Run algo max_iter times to shift cluster center to the mean of that cluster points\n",
    "            for i in range(self.max_iters):\n",
    "                labels = []\n",
    "                # ask each point in which cluster they will be \n",
    "                for point in X:\n",
    "                    distances = []\n",
    "                    # find distance of point from each cluster \n",
    "                    for cluster in clusters:\n",
    "                        distances.append(cluster.distance(point))\n",
    "\n",
    "                    # now find the minimum distance index\n",
    "                    closest_idx = np.argmin(distances)\n",
    "                    closest_cluster = clusters[closest_idx]\n",
    "                    # add the poin to points list of closest cluster\n",
    "                    closest_cluster.points.append(point)\n",
    "                    # and add the label for the point\n",
    "                    labels.append(closest_idx)\n",
    "                \n",
    "                # Take mean of all the points associated to a cluster center and assign it as the new cluster center\n",
    "                for cluster in clusters:\n",
    "                    cluster.center = np.mean(cluster.points, axis=0)\n",
    "                \n",
    "                # append the error for each max_iter OR each shift of center\n",
    "                errors.append(self.error(labels,clusters))\n",
    "       \n",
    "            # for first(..second, third, ...n_iter) random choice of X, miminum error after max_iter iterations will be athe last index \n",
    "            final_error = errors[-1]\n",
    "            # For First(..second, third, ...n_iter) steps, append the error, labels and clusters associated with that step\n",
    "            steps.append((final_error,labels,clusters))\n",
    "        \n",
    "        # After all n_iter choices of random X, find which random choice of X was optimal\n",
    "        index = np.array(steps)[:,0].argmin()\n",
    "        result_err, result_labels, result_clusters = steps[index]\n",
    "        \n",
    "        self.labels = result_labels\n",
    "        self.cluster_centers_= [cluster.center for cluster in result_clusters]\n",
    "        \n",
    "        return result_err\n",
    "    \n",
    "    def error(self, labels, clusters):\n",
    "        error = 0\n",
    "        \n",
    "        for point, label in zip(self._X, labels):\n",
    "            cluster = clusters[label]\n",
    "            # error is distance between shifted cluster center and point\n",
    "            error += cluster.distance(point)\n",
    "            \n",
    "        return error"
   ]
  },
  {
   "cell_type": "code",
   "execution_count": 55,
   "metadata": {},
   "outputs": [
    {
     "data": {
      "text/plain": [
       "array([5.45339605, 0.74230537])"
      ]
     },
     "execution_count": 55,
     "metadata": {},
     "output_type": "execute_result"
    }
   ],
   "source": [
    "random.choice(X)"
   ]
  },
  {
   "cell_type": "code",
   "execution_count": 56,
   "metadata": {},
   "outputs": [
    {
     "name": "stderr",
     "output_type": "stream",
     "text": [
      "E:\\anaconda3\\lib\\site-packages\\numpy\\core\\fromnumeric.py:3257: RuntimeWarning: Mean of empty slice.\n",
      "  out=out, **kwargs)\n",
      "E:\\anaconda3\\lib\\site-packages\\numpy\\core\\_methods.py:161: RuntimeWarning: invalid value encountered in double_scalars\n",
      "  ret = ret.dtype.type(ret / rcount)\n"
     ]
    }
   ],
   "source": [
    "# Elbow method: Check with values of K or n_clusters from 2 to 6 to find ideal value of K\n",
    "errors = []\n",
    "for i in range(2,7):\n",
    "    model = CustomKMeans(i, n_init=10)\n",
    "    # model.fit returns the error for n_clusters =2, 3, 4, 5, 6 \n",
    "    err = model.fit(X)\n",
    "    # append those errors list\n",
    "    errors.append(err)"
   ]
  },
  {
   "cell_type": "code",
   "execution_count": 57,
   "metadata": {},
   "outputs": [
    {
     "data": {
      "text/plain": [
       "[378.978567871971,\n",
       " 117.64800966133762,\n",
       " 107.81978066613438,\n",
       " 100.04652433469917,\n",
       " 91.63540891846054]"
      ]
     },
     "execution_count": 57,
     "metadata": {},
     "output_type": "execute_result"
    }
   ],
   "source": [
    "# as we can see error decreases as number of clusters are increasing\n",
    "errors"
   ]
  },
  {
   "cell_type": "code",
   "execution_count": 58,
   "metadata": {},
   "outputs": [
    {
     "data": {
      "text/plain": [
       "[<matplotlib.lines.Line2D at 0x1c61c46d630>]"
      ]
     },
     "execution_count": 58,
     "metadata": {},
     "output_type": "execute_result"
    },
    {
     "data": {
      "image/png": "[encoded data removed]",
      "text/plain": [
       "<Figure size 432x288 with 1 Axes>"
      ]
     },
     "metadata": {
      "needs_background": "light"
     },
     "output_type": "display_data"
    }
   ],
   "source": [
    "# Point of sharp drop is at 3.\n",
    "# So ideal value of K is 3\n",
    "plt.plot(np.arange(2,7),errors) "
   ]
  },
  {
   "cell_type": "code",
   "execution_count": 59,
   "metadata": {},
   "outputs": [
    {
     "data": {
      "image/png": "[encoded data removed]",
      "text/plain": [
       "<Figure size 432x288 with 1 Axes>"
      ]
     },
     "metadata": {
      "needs_background": "light"
     },
     "output_type": "display_data"
    }
   ],
   "source": [
    "# As last iteration was for K=6, hence we have six clusters. \n",
    "# and six cluster centers\n",
    "plt.scatter(X[:,0],X[:,1], c=model.labels)\n",
    "for center in model.cluster_centers_:\n",
    "   plt.scatter(center[0],center[1], s=60)"
   ]
  },
  {
   "cell_type": "code",
   "execution_count": 60,
   "metadata": {},
   "outputs": [
    {
     "data": {
      "text/plain": [
       "<matplotlib.collections.PathCollection at 0x1c61c57c390>"
      ]
     },
     "execution_count": 60,
     "metadata": {},
     "output_type": "execute_result"
    },
    {
     "data": {
      "image/png": "[encoded data removed]",
      "text/plain": [
       "<Figure size 432x288 with 1 Axes>"
      ]
     },
     "metadata": {
      "needs_background": "light"
     },
     "output_type": "display_data"
    }
   ],
   "source": [
    "plt.scatter(X[:,0],X[:,1], c=y)"
   ]
  },
  {
   "cell_type": "code",
   "execution_count": null,
   "metadata": {},
   "outputs": [],
   "source": []
  }
 ],
 "metadata": {
  "kernelspec": {
   "display_name": "Python 3",
   "language": "python",
   "name": "python3"
  },
  "language_info": {
   "codemirror_mode": {
    "name": "ipython",
    "version": 3
   },
   "file_extension": ".py",
   "mimetype": "text/x-python",
   "name": "python",
   "nbconvert_exporter": "python",
   "pygments_lexer": "ipython3",
   "version": "3.6.10"
  }
 },
 "nbformat": 4,
 "nbformat_minor": 4
}
