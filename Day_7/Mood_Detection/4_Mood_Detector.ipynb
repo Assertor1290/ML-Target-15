{
 "cells": [
  {
   "cell_type": "code",
   "execution_count": 1,
   "metadata": {},
   "outputs": [],
   "source": [
    "import cv2\n",
    "import numpy as np\n",
    "from sklearn.neighbors import KNeighborsClassifier\n",
    "import dlib"
   ]
  },
  {
   "cell_type": "code",
   "execution_count": 2,
   "metadata": {},
   "outputs": [],
   "source": [
    "data = np.load(\"face_mood.npy\")"
   ]
  },
  {
   "cell_type": "code",
   "execution_count": 3,
   "metadata": {},
   "outputs": [
    {
     "data": {
      "text/plain": [
       "((28, 103), dtype('<U11'))"
      ]
     },
     "execution_count": 3,
     "metadata": {},
     "output_type": "execute_result"
    }
   ],
   "source": [
    "# has image type\n",
    "data.shape, data.dtype"
   ]
  },
  {
   "cell_type": "code",
   "execution_count": 4,
   "metadata": {},
   "outputs": [],
   "source": [
    "# convert to RGB type 0 to 255\n",
    "#X = data[:,1:].astype(np.uint8)\n",
    "X = data[:,1:].astype(int)\n",
    "y = data[:,0]"
   ]
  },
  {
   "cell_type": "code",
   "execution_count": 5,
   "metadata": {},
   "outputs": [],
   "source": [
    "model = KNeighborsClassifier()"
   ]
  },
  {
   "cell_type": "code",
   "execution_count": 6,
   "metadata": {},
   "outputs": [
    {
     "data": {
      "text/plain": [
       "KNeighborsClassifier()"
      ]
     },
     "execution_count": 6,
     "metadata": {},
     "output_type": "execute_result"
    }
   ],
   "source": [
    "model.fit(X, y)"
   ]
  },
  {
   "cell_type": "code",
   "execution_count": 7,
   "metadata": {},
   "outputs": [],
   "source": [
    "detector = dlib.get_frontal_face_detector()\n",
    "predictor = dlib.shape_predictor('../datasets/shape_predictor_68_face_landmarks.dat')"
   ]
  },
  {
   "cell_type": "code",
   "execution_count": 8,
   "metadata": {},
   "outputs": [],
   "source": [
    "cap = cv2.VideoCapture(0)"
   ]
  },
  {
   "cell_type": "code",
   "execution_count": 9,
   "metadata": {},
   "outputs": [
    {
     "name": "stdout",
     "output_type": "stream",
     "text": [
      "['Happy']\n",
      "['Happy']\n",
      "['Happy']\n",
      "['Happy']\n",
      "['Happy']\n",
      "['Happy']\n",
      "['Happy']\n",
      "['Happy']\n",
      "['Happy']\n",
      "['Happy']\n",
      "['Happy']\n",
      "['Happy']\n",
      "['Happy']\n",
      "['Happy']\n",
      "['Happy']\n",
      "['Happy']\n",
      "['Happy']\n",
      "['Happy']\n",
      "['Happy']\n",
      "['Happy']\n",
      "['Happy']\n",
      "['Happy']\n",
      "['Happy']\n",
      "['Happy']\n",
      "['Happy']\n",
      "['Happy']\n",
      "['Happy']\n",
      "['Happy']\n",
      "['Happy']\n",
      "['Happy']\n",
      "['Happy']\n",
      "['Happy']\n",
      "['Happy']\n",
      "['Happy']\n",
      "['Happy']\n",
      "['Happy']\n",
      "['Happy']\n",
      "['Happy']\n",
      "['Happy']\n",
      "['Happy']\n",
      "['Happy']\n",
      "['Happy']\n",
      "['Happy']\n",
      "['Happy']\n",
      "['Happy']\n",
      "['Happy']\n",
      "['Happy']\n",
      "['Happy']\n",
      "['Happy']\n",
      "['Happy']\n",
      "['Happy']\n",
      "['Happy']\n",
      "['Happy']\n",
      "['Happy']\n",
      "['Sad']\n",
      "['Sad']\n",
      "['Happy']\n",
      "['Sad']\n",
      "['Sad']\n",
      "['Sad']\n",
      "['Sad']\n",
      "['Sad']\n",
      "['Sad']\n",
      "['Sad']\n",
      "['Sad']\n",
      "['Sad']\n",
      "['Sad']\n",
      "['Sad']\n",
      "['Sad']\n",
      "['Sad']\n",
      "['Sad']\n",
      "['Happy']\n",
      "['Sad']\n",
      "['Sad']\n",
      "['Sad']\n",
      "['Sad']\n",
      "['Sad']\n",
      "['Sad']\n",
      "['Sad']\n",
      "['Sad']\n",
      "['Sad']\n",
      "['Sad']\n",
      "['Happy']\n",
      "['Happy']\n",
      "['Happy']\n",
      "['Happy']\n",
      "['Happy']\n",
      "['Happy']\n",
      "['Happy']\n",
      "['Happy']\n",
      "['Happy']\n",
      "['Happy']\n",
      "['Happy']\n",
      "['Happy']\n",
      "['Happy']\n",
      "['Happy']\n",
      "['Happy']\n",
      "['Happy']\n",
      "['Happy']\n",
      "['Happy']\n",
      "['Happy']\n",
      "['Happy']\n",
      "['Happy']\n",
      "['Happy']\n",
      "['Happy']\n",
      "['Happy']\n",
      "['Happy']\n",
      "['Sad']\n",
      "['Happy']\n",
      "['Happy']\n",
      "['Happy']\n",
      "['Happy']\n",
      "['Happy']\n",
      "['Happy']\n",
      "['Happy']\n",
      "['Happy']\n"
     ]
    }
   ],
   "source": [
    "while True:\n",
    "    ret, frame = cap.read()\n",
    "    # using gray instead of frame for computation part to avoid lag\n",
    "    gray = cv2.cvtColor(frame, cv2.COLOR_BGR2GRAY)\n",
    "    \n",
    "    faces = detector(gray)\n",
    "    for face in faces:\n",
    "        landmarks = predictor(gray,face)\n",
    "        # [17: ] as facial expression is from 17 and above. Mouth is 45 and above\n",
    "        expression = np.array([[point.x - face.left() , point.y-face.top()] for point in landmarks.parts()[17:]])\n",
    "        print(model.predict([expression.flatten()]))\n",
    "\n",
    "    if ret:    \n",
    "        cv2.imshow(\"My Screen\", frame)\n",
    "       \n",
    "    key = cv2.waitKey(1)\n",
    "    \n",
    "    if key == ord('q'):\n",
    "        break\n",
    "\n",
    "cap.release()\n",
    "cv2.destroyAllWindows()"
   ]
  },
  {
   "cell_type": "code",
   "execution_count": null,
   "metadata": {},
   "outputs": [],
   "source": []
  },
  {
   "cell_type": "code",
   "execution_count": null,
   "metadata": {},
   "outputs": [],
   "source": []
  },
  {
   "cell_type": "code",
   "execution_count": null,
   "metadata": {},
   "outputs": [],
   "source": []
  },
  {
   "cell_type": "code",
   "execution_count": null,
   "metadata": {},
   "outputs": [],
   "source": []
  },
  {
   "cell_type": "code",
   "execution_count": null,
   "metadata": {},
   "outputs": [],
   "source": []
  },
  {
   "cell_type": "code",
   "execution_count": null,
   "metadata": {},
   "outputs": [],
   "source": []
  }
 ],
 "metadata": {
  "kernelspec": {
   "display_name": "Python 3",
   "language": "python",
   "name": "python3"
  },
  "language_info": {
   "codemirror_mode": {
    "name": "ipython",
    "version": 3
   },
   "file_extension": ".py",
   "mimetype": "text/x-python",
   "name": "python",
   "nbconvert_exporter": "python",
   "pygments_lexer": "ipython3",
   "version": "3.6.10"
  }
 },
 "nbformat": 4,
 "nbformat_minor": 4
}
