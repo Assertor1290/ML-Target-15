{
 "cells": [
  {
   "cell_type": "code",
   "execution_count": 8,
   "metadata": {},
   "outputs": [],
   "source": [
    "import cv2\n",
    "import numpy as np\n",
    "import os"
   ]
  },
  {
   "cell_type": "code",
   "execution_count": 9,
   "metadata": {},
   "outputs": [],
   "source": [
    "cap = cv2.VideoCapture(0)"
   ]
  },
  {
   "cell_type": "code",
   "execution_count": 10,
   "metadata": {},
   "outputs": [],
   "source": [
    "classifier = cv2.CascadeClassifier('./datasets/haarcascade_frontalface_default.xml')"
   ]
  },
  {
   "cell_type": "code",
   "execution_count": 11,
   "metadata": {},
   "outputs": [
    {
     "name": "stdin",
     "output_type": "stream",
     "text": [
      "Enter your name :  Penny\n"
     ]
    }
   ],
   "source": [
    "# name whose face has to be captured\n",
    "name = input(\"Enter your name : \")"
   ]
  },
  {
   "cell_type": "code",
   "execution_count": 12,
   "metadata": {},
   "outputs": [],
   "source": [
    "frames = []\n",
    "outputs = []"
   ]
  },
  {
   "cell_type": "code",
   "execution_count": 13,
   "metadata": {},
   "outputs": [],
   "source": [
    "while True:\n",
    "    ret, frame = cap.read()\n",
    "    \n",
    "    if ret:\n",
    "        faces = classifier.detectMultiScale(frame)\n",
    "        \n",
    "        for face in faces:\n",
    "            x, y, w, h = face\n",
    "            cut = frame[y:y+h,x:x+w]\n",
    "            fix = cv2.resize(cut, (100,100))\n",
    "            gray = cv2.cvtColor(fix, cv2.COLOR_BGR2GRAY)\n",
    "            \n",
    "        cv2.imshow(\"My Screen\", frame)\n",
    "        cv2.imshow(\"My Face\", gray) \n",
    "        \n",
    "    key = cv2.waitKey(1)\n",
    "    if key == ord('q'):\n",
    "        break\n",
    "        \n",
    "    #to create a capture\n",
    "    if key == ord('c'):\n",
    "        #stores a single image\n",
    "        #cv2.imwrite(name +\".jpg\",frame)\n",
    "        \n",
    "        # flatten the frame image 100 * 100 to an array of 10000\n",
    "        # Each element in frames is an array\n",
    "        frames.append(gray.flatten())\n",
    "        # name of user whose image is captured\n",
    "        outputs.append([name])\n",
    "        \n",
    "X = np.array(frames)\n",
    "y = np.array(outputs)\n",
    "\n",
    "data = np.hstack([y,X])\n",
    "# print(data.shape)\n",
    "\n",
    "# file in which we will save data\n",
    "f_name = \"face_data.npy\"\n",
    "\n",
    "# if file exists, then vertically stack new data below old data\n",
    "if os.path.exists(f_name):\n",
    "    old = np.load(f_name)\n",
    "    data = np.vstack([old, data])\n",
    "\n",
    "# save the data in file\n",
    "np.save(f_name, data)\n",
    "        \n",
    "cap.release()\n",
    "cv2.destroyAllWindows()"
   ]
  },
  {
   "cell_type": "code",
   "execution_count": null,
   "metadata": {},
   "outputs": [],
   "source": []
  },
  {
   "cell_type": "code",
   "execution_count": null,
   "metadata": {},
   "outputs": [],
   "source": []
  }
 ],
 "metadata": {
  "kernelspec": {
   "display_name": "Python 3",
   "language": "python",
   "name": "python3"
  },
  "language_info": {
   "codemirror_mode": {
    "name": "ipython",
    "version": 3
   },
   "file_extension": ".py",
   "mimetype": "text/x-python",
   "name": "python",
   "nbconvert_exporter": "python",
   "pygments_lexer": "ipython3",
   "version": "3.6.10"
  }
 },
 "nbformat": 4,
 "nbformat_minor": 4
}
