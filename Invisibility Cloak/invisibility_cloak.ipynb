{
 "cells": [
  {
   "cell_type": "code",
   "execution_count": 61,
   "metadata": {},
   "outputs": [],
   "source": [
    "import cv2\n",
    "import numpy as np"
   ]
  },
  {
   "cell_type": "code",
   "execution_count": 66,
   "metadata": {},
   "outputs": [],
   "source": [
    "cap=cv2.VideoCapture(0)\n",
    "back=cv2.imread('./Background.jpg')"
   ]
  },
  {
   "cell_type": "code",
   "execution_count": 67,
   "metadata": {},
   "outputs": [],
   "source": [
    "while cap.isOpened():\n",
    "    ret,frame=cap.read()\n",
    "    \n",
    "    if ret:\n",
    "        #we will use HSV instead of BGR because HSV contains light and intensity info also\n",
    "        #it is how humans eye see the objects\n",
    "        #RGB is just combination of different Primary colours\n",
    "        hsv=cv2.cvtColor(frame,cv2.COLOR_BGR2HSV)\n",
    "        #cv2.imshow(\"HSV\",hsv): To see just HSV effect\n",
    "        #in OpenCV we have only 8bits to store the colors i.e. 0 to 255\n",
    "        #But hue value is from 0 to 360\n",
    "        #So, in OpenCV we have reduced the disk to half i.e. 0 to 180 and increased the change in variation\n",
    "        #In OpenCV H:0-179 S:0-255 V:0-255\n",
    "        \n",
    "        lower_red=np.array([[[0,100,100]]])\n",
    "        upper_red=np.array([[[5,255,255]]])\n",
    "        \n",
    "        #Now, we want the red color to disappear\n",
    "        #mask has all the red components\n",
    "        mask= cv2.inRange(hsv,lower_red,upper_red)\n",
    "        # cv2.imshow(\"Mask\",mask)\n",
    "        \n",
    "        mask = cv2.morphologyEx(mask, op=cv2.MORPH_OPEN, kernel=np.ones((5, 5), np.uint8), iterations=2)\n",
    "        mask = cv2.dilate(mask, kernel=np.ones((5, 5), np.uint8), iterations=1)\n",
    "    \n",
    "        #Now AND the background image with mask, it replaces all the red area with background image\n",
    "        #REPLACES mask area with background Image\n",
    "        part1=cv2.bitwise_and(back,back,mask=mask)\n",
    "        #cv2.imshow(\"Part1\",part1)\n",
    "        \n",
    "        ###Now display rest of background also\n",
    "        \n",
    "        mask=cv2.bitwise_not(mask)\n",
    "        \n",
    "        #REPLACES mask area with frame being captured\n",
    "        #if we do not do bitwise not, then it will show the red area. Bitwise not helps show NOT RED area\n",
    "        part2=cv2.bitwise_and(frame,frame,mask=mask)\n",
    "        #cv2.imshow(\"Part2\",part2)\n",
    "        \n",
    "        #Now, we have to display part 1 also. Since part1 and part2 are arrays simply add them\n",
    "        cv2.imshow(\"Cloak\",part1+part2)\n",
    "        \n",
    "        if cv2.waitKey(5)==ord('q'):\n",
    "            break\n",
    "            \n",
    "cap.release()\n",
    "cv2.destroyAllWindows()\n",
    "        \n",
    "        "
   ]
  },
  {
   "cell_type": "markdown",
   "metadata": {},
   "source": [
    "## HOW TO FIND HSV VALUE?"
   ]
  },
  {
   "cell_type": "code",
   "execution_count": 18,
   "metadata": {},
   "outputs": [
    {
     "name": "stdout",
     "output_type": "stream",
     "text": [
      "[[[ 30 255 255]]]\n"
     ]
    }
   ],
   "source": [
    "#How to find HSV value?\n",
    "#1. Pass the BGR value of color whose HSV you want to find out\n",
    "green=np.uint8([[[0,255,255]]])\n",
    "#2. convert to HSV color space\n",
    "hsv_green=cv2.cvtColor(green,cv2.COLOR_BGR2HSV)\n",
    "#3. print the value\n",
    "print(hsv_green)"
   ]
  },
  {
   "cell_type": "code",
   "execution_count": 19,
   "metadata": {},
   "outputs": [],
   "source": [
    "#Now take H-10,100,100 as lower bound of that color and\n",
    "#         H"
   ]
  },
  {
   "cell_type": "code",
   "execution_count": 21,
   "metadata": {},
   "outputs": [
    {
     "data": {
      "text/plain": [
       "array([[[ 88,  14, 249],\n",
       "        [ 90,  13, 246],\n",
       "        [ 92,  16, 245],\n",
       "        ...,\n",
       "        [ 24, 132, 131],\n",
       "        [ 22, 133, 132],\n",
       "        [ 22, 131, 132]],\n",
       "\n",
       "       [[ 94,  15, 250],\n",
       "        [ 92,  16, 246],\n",
       "        [ 92,  16, 244],\n",
       "        ...,\n",
       "        [ 24, 133, 127],\n",
       "        [ 22, 134, 131],\n",
       "        [ 22, 132, 133]],\n",
       "\n",
       "       [[ 94,  14, 248],\n",
       "        [ 95,  13, 246],\n",
       "        [ 95,  14, 245],\n",
       "        ...,\n",
       "        [ 24, 125, 126],\n",
       "        [ 23, 120, 130],\n",
       "        [ 23, 119, 131]],\n",
       "\n",
       "       ...,\n",
       "\n",
       "       [[ 26,  29, 177],\n",
       "        [ 26,  30, 178],\n",
       "        [ 26,  29, 177],\n",
       "        ...,\n",
       "        [  4, 199, 131],\n",
       "        [  4, 194, 130],\n",
       "        [  4, 193, 132]],\n",
       "\n",
       "       [[ 26,  32, 178],\n",
       "        [ 26,  32, 177],\n",
       "        [ 26,  29, 177],\n",
       "        ...,\n",
       "        [  4, 199, 133],\n",
       "        [  3, 194, 133],\n",
       "        [  3, 189, 136]],\n",
       "\n",
       "       [[ 26,  32, 178],\n",
       "        [ 26,  30, 177],\n",
       "        [ 26,  29, 177],\n",
       "        ...,\n",
       "        [  3, 195, 135],\n",
       "        [  2, 187, 138],\n",
       "        [  2, 183, 141]]], dtype=uint8)"
      ]
     },
     "execution_count": 21,
     "metadata": {},
     "output_type": "execute_result"
    }
   ],
   "source": [
    "hsv"
   ]
  },
  {
   "cell_type": "code",
   "execution_count": 32,
   "metadata": {},
   "outputs": [
    {
     "data": {
      "text/plain": [
       "\u001b[1;31mDocstring:\u001b[0m\n",
       "bitwise_and(src1, src2[, dst[, mask]]) -> dst\n",
       ".   @brief computes bitwise conjunction of the two arrays (dst = src1 & src2)\n",
       ".   Calculates the per-element bit-wise conjunction of two arrays or an\n",
       ".   array and a scalar.\n",
       ".   \n",
       ".   The function cv::bitwise_and calculates the per-element bit-wise logical conjunction for:\n",
       ".   *   Two arrays when src1 and src2 have the same size:\n",
       ".       \\f[\\texttt{dst} (I) =  \\texttt{src1} (I)  \\wedge \\texttt{src2} (I) \\quad \\texttt{if mask} (I) \\ne0\\f]\n",
       ".   *   An array and a scalar when src2 is constructed from Scalar or has\n",
       ".       the same number of elements as `src1.channels()`:\n",
       ".       \\f[\\texttt{dst} (I) =  \\texttt{src1} (I)  \\wedge \\texttt{src2} \\quad \\texttt{if mask} (I) \\ne0\\f]\n",
       ".   *   A scalar and an array when src1 is constructed from Scalar or has\n",
       ".       the same number of elements as `src2.channels()`:\n",
       ".       \\f[\\texttt{dst} (I) =  \\texttt{src1}  \\wedge \\texttt{src2} (I) \\quad \\texttt{if mask} (I) \\ne0\\f]\n",
       ".   In case of floating-point arrays, their machine-specific bit\n",
       ".   representations (usually IEEE754-compliant) are used for the operation.\n",
       ".   In case of multi-channel arrays, each channel is processed\n",
       ".   independently. In the second and third cases above, the scalar is first\n",
       ".   converted to the array type.\n",
       ".   @param src1 first input array or a scalar.\n",
       ".   @param src2 second input array or a scalar.\n",
       ".   @param dst output array that has the same size and type as the input\n",
       ".   arrays.\n",
       ".   @param mask optional operation mask, 8-bit single channel array, that\n",
       ".   specifies elements of the output array to be changed.\n",
       "\u001b[1;31mType:\u001b[0m      builtin_function_or_method\n"
      ]
     },
     "metadata": {},
     "output_type": "display_data"
    }
   ],
   "source": [
    "cv2.bitwise_and?"
   ]
  },
  {
   "cell_type": "code",
   "execution_count": null,
   "metadata": {},
   "outputs": [],
   "source": []
  }
 ],
 "metadata": {
  "kernelspec": {
   "display_name": "Python 3",
   "language": "python",
   "name": "python3"
  },
  "language_info": {
   "codemirror_mode": {
    "name": "ipython",
    "version": 3
   },
   "file_extension": ".py",
   "mimetype": "text/x-python",
   "name": "python",
   "nbconvert_exporter": "python",
   "pygments_lexer": "ipython3",
   "version": "3.7.6"
  }
 },
 "nbformat": 4,
 "nbformat_minor": 4
}
