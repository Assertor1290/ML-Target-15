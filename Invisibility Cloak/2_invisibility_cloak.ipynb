{
 "cells": [
  {
   "cell_type": "code",
   "execution_count": 1,
   "metadata": {},
   "outputs": [],
   "source": [
    "import cv2\n",
    "import numpy as np"
   ]
  },
  {
   "cell_type": "code",
   "execution_count": 2,
   "metadata": {},
   "outputs": [],
   "source": [
    "cap=cv2.VideoCapture(0)\n",
    "back=cv2.imread('./Background.jpg')"
   ]
  },
  {
   "cell_type": "code",
   "execution_count": 3,
   "metadata": {},
   "outputs": [],
   "source": [
    "while cap.isOpened():\n",
    "    ret,frame=cap.read()\n",
    "    \n",
    "    if ret:\n",
    "        #we will use HSV instead of BGR because HSV contains light and intensity info also\n",
    "        #it is how humans eye see the objects\n",
    "        #RGB is just combination of different Primary colours\n",
    "        hsv=cv2.cvtColor(frame,cv2.COLOR_BGR2HSV)\n",
    "        #cv2.imshow(\"HSV\",hsv): To see just HSV effect\n",
    "        \n",
    "        #in OpenCV we have only 8bits to store the colors i.e. 0 to 255\n",
    "        #But hue value is from 0 to 360\n",
    "        #So, in OpenCV we have reduced the disk to half i.e. 0 to 180 and increased the change in variation\n",
    "        #In OpenCV H:0-179 S:0-255 V:0-255\n",
    "        \n",
    "        lower_red=np.array([[[0,100,100]]])\n",
    "        upper_red=np.array([[[5,255,255]]])\n",
    "        \n",
    "        #Now, we want the red color to disappear\n",
    "        #mask has all the red components\n",
    "        mask= cv2.inRange(hsv,lower_red,upper_red)\n",
    "        # cv2.imshow(\"Mask\",mask)\n",
    "        \n",
    "        mask = cv2.morphologyEx(mask, op=cv2.MORPH_OPEN, kernel=np.ones((5, 5), np.uint8), iterations=2)\n",
    "        mask = cv2.dilate(mask, kernel=np.ones((5, 5), np.uint8), iterations=1)\n",
    "    \n",
    "        #Now AND the background image with mask, it replaces all the red area with background image\n",
    "        #REPLACES mask area with background Image\n",
    "        # source, destination, mask\n",
    "        part1=cv2.bitwise_and(back,back,mask=mask)\n",
    "        #cv2.imshow(\"Part1\",part1)\n",
    "        \n",
    "        ###Now display rest of background also\n",
    "        \n",
    "        mask=cv2.bitwise_not(mask)\n",
    "        \n",
    "        #REPLACES mask area with frame being captured\n",
    "        #if we do not do bitwise not, then it will show the red area. Bitwise not helps show NOT RED area\n",
    "        part2=cv2.bitwise_and(frame,frame,mask=mask)\n",
    "        #cv2.imshow(\"Part2\",part2)\n",
    "        \n",
    "        #Now, we have to display part 1 also. Since part1 and part2 are arrays simply add them\n",
    "        cv2.imshow(\"Cloak\",part1+part2)\n",
    "        \n",
    "        if cv2.waitKey(5)==ord('q'):\n",
    "            break\n",
    "            \n",
    "cap.release()\n",
    "cv2.destroyAllWindows()\n",
    "        \n",
    "        "
   ]
  },
  {
   "cell_type": "markdown",
   "metadata": {},
   "source": [
    "## HOW TO FIND HSV VALUE?"
   ]
  },
  {
   "cell_type": "code",
   "execution_count": 8,
   "metadata": {},
   "outputs": [
    {
     "name": "stdout",
     "output_type": "stream",
     "text": [
      "[[[ 60 255 255]]]\n"
     ]
    }
   ],
   "source": [
    "#How to find HSV value?\n",
    "#1. Pass the BGR value of color whose HSV you want to find out\n",
    "green=np.uint8([[[0,255,0]]])\n",
    "#2. convert to HSV color space\n",
    "hsv_green=cv2.cvtColor(green,cv2.COLOR_BGR2HSV)\n",
    "#3. print the value\n",
    "print(hsv_green)"
   ]
  },
  {
   "cell_type": "code",
   "execution_count": 5,
   "metadata": {},
   "outputs": [],
   "source": [
    "#Now take H-10,100,100 as lower bound of that color and\n",
    "#         H"
   ]
  },
  {
   "cell_type": "code",
   "execution_count": null,
   "metadata": {},
   "outputs": [],
   "source": []
  }
 ],
 "metadata": {
  "kernelspec": {
   "display_name": "Python 3",
   "language": "python",
   "name": "python3"
  },
  "language_info": {
   "codemirror_mode": {
    "name": "ipython",
    "version": 3
   },
   "file_extension": ".py",
   "mimetype": "text/x-python",
   "name": "python",
   "nbconvert_exporter": "python",
   "pygments_lexer": "ipython3",
   "version": "3.6.10"
  }
 },
 "nbformat": 4,
 "nbformat_minor": 4
}
