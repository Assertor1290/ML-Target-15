{
 "cells": [
  {
   "cell_type": "code",
   "execution_count": 1,
   "metadata": {},
   "outputs": [],
   "source": [
    "#This file is used to capture the background.\n",
    "import cv2"
   ]
  },
  {
   "cell_type": "code",
   "execution_count": 4,
   "metadata": {},
   "outputs": [],
   "source": [
    "#Capture image from Webcam\n",
    "cap=cv2.VideoCapture(0)\n",
    "\n",
    "#Returns true if video capturing has been intialized successfully\n",
    "#If the previous call to VideoCapture constructor or VideoCapture::open() succeeded, the method returns true.\n",
    "while cap.isOpened():\n",
    "    ret,frame=cap.read()\n",
    "    \n",
    "    if ret:\n",
    "        #display the captured image in window\n",
    "        cv2.imshow('image',frame)\n",
    "        \n",
    "        if cv2.waitKey(5)==ord('q'):\n",
    "            cv2.imwrite('Background.jpg',frame)\n",
    "            #break ot of capturing when q is pressed\n",
    "            break\n",
    "\n",
    "cap.release()\n",
    "cv2.destroyAllWindows()\n",
    "    "
   ]
  },
  {
   "cell_type": "code",
   "execution_count": null,
   "metadata": {},
   "outputs": [],
   "source": []
  }
 ],
 "metadata": {
  "kernelspec": {
   "display_name": "Python 3",
   "language": "python",
   "name": "python3"
  },
  "language_info": {
   "codemirror_mode": {
    "name": "ipython",
    "version": 3
   },
   "file_extension": ".py",
   "mimetype": "text/x-python",
   "name": "python",
   "nbconvert_exporter": "python",
   "pygments_lexer": "ipython3",
   "version": "3.7.6"
  }
 },
 "nbformat": 4,
 "nbformat_minor": 4
}
