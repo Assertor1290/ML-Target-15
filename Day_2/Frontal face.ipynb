{
 "cells": [
  {
   "cell_type": "code",
   "execution_count": 1,
   "metadata": {},
   "outputs": [],
   "source": [
    "import cv2"
   ]
  },
  {
   "cell_type": "code",
   "execution_count": 2,
   "metadata": {},
   "outputs": [],
   "source": [
    "#To capture a video, you need to create a VideoCapture object. Its argument can be either the device index or the name of a video file.\n",
    "cap=cv2.VideoCapture(0)\n",
    "classifier = cv2.CascadeClassifier(\"haarcascade_frontalface_default.xml\")"
   ]
  },
  {
   "cell_type": "code",
   "execution_count": 3,
   "metadata": {},
   "outputs": [],
   "source": [
    "while True:\n",
    "    #cap.read() returns a bool (True/False). If frame is read correctly, it will be True. \n",
    "    #The read() function reads one frame from the video source.\n",
    "    ret, frame=cap.read()\n",
    "    if ret:\n",
    "        faces = classifier.detectMultiScale(frame)\n",
    "\n",
    "        for face in faces:\n",
    "            #Then it will detect the objects in the image and return a list of rectangles as 4 values : x,y,w and h.\n",
    "            x, y, w, h = face\n",
    "            frame = cv2.rectangle(frame, (x, y), (x + w, y + h), (0, 0, 255), 4)\n",
    "\n",
    "        cv2.imshow(\"My window\", frame)\n",
    "\n",
    "    #waitKey(0) will pause your screen because it will wait infinitely for keyPress on your keyboard\n",
    "    #and will not refresh the frame(cap.read()) using your WebCam. waitKey(1) will wait for keyPress for just 1 millisecond \n",
    "    #and it will continue to refresh and read frame from your webcam using cap.read().    \n",
    "    key = cv2.waitKey(1)\n",
    "\n",
    "    #This will go on and keep detecting faces till ‘q’ key is pressed. If it is, we exit the script.\n",
    "    #when you press something it is taken in numbers\n",
    "    if key == ord(\"q\"):\n",
    "        break \n",
    "        \n",
    "    #ord('q') returns the Unicode code point of q\n",
    "    #cv2.waitkey(1) returns a 32-bit integer corresponding to the pressed key\n",
    "cap.release()\n",
    "cv2.destroyAllWindows()"
   ]
  },
  {
   "cell_type": "code",
   "execution_count": null,
   "metadata": {},
   "outputs": [],
   "source": []
  }
 ],
 "metadata": {
  "kernelspec": {
   "display_name": "Python 3",
   "language": "python",
   "name": "python3"
  },
  "language_info": {
   "codemirror_mode": {
    "name": "ipython",
    "version": 3
   },
   "file_extension": ".py",
   "mimetype": "text/x-python",
   "name": "python",
   "nbconvert_exporter": "python",
   "pygments_lexer": "ipython3",
   "version": "3.7.6"
  }
 },
 "nbformat": 4,
 "nbformat_minor": 4
}
