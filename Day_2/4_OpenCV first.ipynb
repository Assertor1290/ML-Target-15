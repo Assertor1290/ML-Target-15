{
 "cells": [
  {
   "cell_type": "code",
   "execution_count": null,
   "metadata": {},
   "outputs": [],
   "source": [
    "import matplotlib.pyplot as plt\n",
    "# The image should be in the working directory or a full path of image should be given.\n",
    "import cv2"
   ]
  },
  {
   "cell_type": "code",
   "execution_count": null,
   "metadata": {},
   "outputs": [],
   "source": [
    "#loads an image from the specified file\n",
    "frame=cv2.imread(\"faces.jpg\")"
   ]
  },
  {
   "cell_type": "code",
   "execution_count": null,
   "metadata": {},
   "outputs": [],
   "source": [
    "frame"
   ]
  },
  {
   "cell_type": "code",
   "execution_count": null,
   "metadata": {},
   "outputs": [],
   "source": [
    "#problem with open cv is it is BGR instead of RGB\n",
    "#color is reversed\n",
    "plt.imshow(frame)"
   ]
  },
  {
   "cell_type": "code",
   "execution_count": null,
   "metadata": {},
   "outputs": [],
   "source": [
    "#cv2.imshow('image',img)\n",
    "#cv2.waitKey(0)\n",
    "#cv2.destroyAllWindows()\n",
    "#Use the function cv2.imshow() to display an image in a window. The window automatically fits to the image size."
   ]
  },
  {
   "cell_type": "code",
   "execution_count": null,
   "metadata": {},
   "outputs": [],
   "source": [
    "#cvtColor:  to convert images from one color-space to another, like BGR to Gray, BGR to HSV etc.\n",
    "rgb=cv2.cvtColor(frame,cv2.COLOR_BGR2RGB)"
   ]
  },
  {
   "cell_type": "code",
   "execution_count": null,
   "metadata": {},
   "outputs": [],
   "source": [
    "plt.imshow(rgb)"
   ]
  },
  {
   "cell_type": "code",
   "execution_count": null,
   "metadata": {},
   "outputs": [],
   "source": [
    "#OpenCV already contains many pre-trained classifiers for face, eyes, sm\\ile etc. \n",
    "#Those XML files are stored in opencv/data/haarcascades/ folder\n",
    "classifier=cv2.CascadeClassifier(\"haarcascade_frontalface_default.xml\")\n",
    "classifierEye=cv2.CascadeClassifier(\"haarcascade_eye.xml\")"
   ]
  },
  {
   "cell_type": "code",
   "execution_count": null,
   "metadata": {},
   "outputs": [],
   "source": [
    "#Detects objects of different sizes in the input image. The detected objects are returned as a list of rectangles.\n",
    "faces=classifier.detectMultiScale(frame)\n",
    "eyes=classifierEye.detectMultiScale(frame)"
   ]
  },
  {
   "cell_type": "code",
   "execution_count": null,
   "metadata": {},
   "outputs": [],
   "source": [
    "faces\n",
    "#so from output we see, it detects 5 rectangles i.e 5 faces."
   ]
  },
  {
   "cell_type": "code",
   "execution_count": null,
   "metadata": {},
   "outputs": [],
   "source": [
    "eyes"
   ]
  },
  {
   "cell_type": "code",
   "execution_count": null,
   "metadata": {},
   "outputs": [],
   "source": [
    "#take first face\n",
    "faceszero=faces[0]\n",
    "#x->,y starting upper left corner, w is width->, h is height\n",
    "x, y, w, h = faceszero\n",
    "face = rgb[y:y+h, x:x+w]\n",
    "plt.imshow(face)"
   ]
  },
  {
   "cell_type": "code",
   "execution_count": null,
   "metadata": {},
   "outputs": [],
   "source": [
    "eyeszero=eyes[0]\n",
    "ex,ey,ew,eh = eyeszero\n",
    "eye=rgb[ey:ey+eh,ex:ex+ew]\n",
    "plt.imshow(eye)"
   ]
  },
  {
   "cell_type": "code",
   "execution_count": null,
   "metadata": {},
   "outputs": [],
   "source": [
    "faceszero=faces[1]\n",
    "x, y, w, h = faceszero\n",
    "face = rgb[y:y+h, x:x+w]\n",
    "plt.imshow(face)"
   ]
  },
  {
   "cell_type": "code",
   "execution_count": null,
   "metadata": {},
   "outputs": [],
   "source": [
    "faceszero=faces[2]\n",
    "x, y, w, h = faceszero\n",
    "face = rgb[y:y+h, x:x+w]\n",
    "plt.imshow(face)"
   ]
  },
  {
   "cell_type": "code",
   "execution_count": null,
   "metadata": {},
   "outputs": [],
   "source": [
    "#will draw rectangle on face region\n",
    "#rgb: image, (x,y): starting point (x+w,y+h): ending point (0,0,255): color of box. in terms of rgb, 4: thickness)\n",
    "#color of box is in terms of rgb and not bgr because we used cvtColor above to convert to RGB\n",
    "output=cv2.rectangle(rgb,(x,y),(x+w,y+h),(0,0,255),4)\n",
    "plt.imshow(output)"
   ]
  },
  {
   "cell_type": "code",
   "execution_count": null,
   "metadata": {},
   "outputs": [],
   "source": [
    "outputeyes=cv2.rectangle(rgb,(ex,ey),(ex+ew,ey+eh),(0,255,0),4)\n",
    "plt.imshow(outputeyes)"
   ]
  },
  {
   "cell_type": "code",
   "execution_count": null,
   "metadata": {},
   "outputs": [],
   "source": [
    "for(x,y,w,h) in faces:\n",
    "    plt.imshow(cv2.rectangle(rgb,(x,y),(x+w,y+h),(0,0,255),4))\n",
    "    for(ex,ey,ew,eh) in eyes:\n",
    "        plt.imshow(cv2.rectangle(rgb,(ex,ey),(ex+ew,ey+eh),(0,255,0),4))"
   ]
  },
  {
   "cell_type": "code",
   "execution_count": null,
   "metadata": {},
   "outputs": [],
   "source": []
  }
 ],
 "metadata": {
  "kernelspec": {
   "display_name": "Python 3",
   "language": "python",
   "name": "python3"
  },
  "language_info": {
   "codemirror_mode": {
    "name": "ipython",
    "version": 3
   },
   "file_extension": ".py",
   "mimetype": "text/x-python",
   "name": "python",
   "nbconvert_exporter": "python",
   "pygments_lexer": "ipython3",
   "version": "3.6.10"
  }
 },
 "nbformat": 4,
 "nbformat_minor": 4
}
