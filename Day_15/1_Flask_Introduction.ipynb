{
 "cells": [
  {
   "cell_type": "code",
   "execution_count": 1,
   "id": "e6332921-8b07-40aa-ab47-c4ba3de1f976",
   "metadata": {},
   "outputs": [],
   "source": [
    "from flask import Flask"
   ]
  },
  {
   "cell_type": "code",
   "execution_count": 2,
   "id": "f24c82aa-1ed6-4909-99b6-88a8a40d1ef9",
   "metadata": {},
   "outputs": [],
   "source": [
    "# Flask object, pass name of application\n",
    "app = Flask(\"Assertor\")"
   ]
  },
  {
   "cell_type": "code",
   "execution_count": 3,
   "id": "92936146-6fd2-4528-8597-db2875f45c9d",
   "metadata": {},
   "outputs": [],
   "source": [
    "# \"/\" represents root location of server\n",
    "# We want to respond with \"I am from server\" when someone hit on root location of server\n",
    "@app.route(\"/\")\n",
    "def hello():\n",
    "    return \"I am from server\""
   ]
  },
  {
   "cell_type": "code",
   "execution_count": null,
   "id": "97e8a4bd-b47d-4a12-a9b0-8a134d74600f",
   "metadata": {},
   "outputs": [
    {
     "name": "stdout",
     "output_type": "stream",
     "text": [
      " * Serving Flask app \"Assertor\" (lazy loading)\n",
      " * Environment: production\n",
      "   WARNING: This is a development server. Do not use it in a production deployment.\n",
      "   Use a production WSGI server instead.\n",
      " * Debug mode: off\n"
     ]
    },
    {
     "name": "stderr",
     "output_type": "stream",
     "text": [
      " * Running on http://127.0.0.1:5000/ (Press CTRL+C to quit)\n",
      "127.0.0.1 - - [19/Apr/2021 22:02:26] \"\u001b[37mGET / HTTP/1.1\u001b[0m\" 200 -\n"
     ]
    }
   ],
   "source": [
    "app.run()"
   ]
  },
  {
   "cell_type": "code",
   "execution_count": null,
   "id": "7d12cd9d-e440-4e8f-9cde-674df7464d6f",
   "metadata": {},
   "outputs": [],
   "source": []
  }
 ],
 "metadata": {
  "kernelspec": {
   "display_name": "Python 3",
   "language": "python",
   "name": "python3"
  },
  "language_info": {
   "codemirror_mode": {
    "name": "ipython",
    "version": 3
   },
   "file_extension": ".py",
   "mimetype": "text/x-python",
   "name": "python",
   "nbconvert_exporter": "python",
   "pygments_lexer": "ipython3",
   "version": "3.6.10"
  }
 },
 "nbformat": 4,
 "nbformat_minor": 5
}
