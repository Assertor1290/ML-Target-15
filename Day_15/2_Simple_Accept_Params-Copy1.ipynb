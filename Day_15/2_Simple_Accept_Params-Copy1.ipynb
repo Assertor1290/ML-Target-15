{
 "cells": [
  {
   "cell_type": "code",
   "execution_count": 1,
   "id": "7710831b-01ed-4c50-92dc-3a48966bab89",
   "metadata": {},
   "outputs": [],
   "source": [
    "from flask import Flask, request"
   ]
  },
  {
   "cell_type": "code",
   "execution_count": 2,
   "id": "d2ed45f6-4e53-4d1b-bc59-6f55b8990a17",
   "metadata": {},
   "outputs": [],
   "source": [
    "app = Flask(\"Assertor\")"
   ]
  },
  {
   "cell_type": "code",
   "execution_count": 3,
   "id": "5095cdae-c534-4b81-ab50-655c6f17f2f8",
   "metadata": {},
   "outputs": [],
   "source": [
    "@app.route(\"/home/\")\n",
    "def hello():\n",
    "    if request.args.get(\"name\"):\n",
    "        print(\"Request is coming from\" + request.args.get(\"name\"))\n",
    "    # args is Query parameter\n",
    "    return str(request.args)"
   ]
  },
  {
   "cell_type": "code",
   "execution_count": 4,
   "id": "617dbc84-5973-4ad7-9353-71b4b8368bf9",
   "metadata": {},
   "outputs": [
    {
     "name": "stdout",
     "output_type": "stream",
     "text": [
      " * Serving Flask app \"Assertor\" (lazy loading)\n",
      " * Environment: production\n",
      "   WARNING: This is a development server. Do not use it in a production deployment.\n",
      "   Use a production WSGI server instead.\n",
      " * Debug mode: off\n"
     ]
    },
    {
     "name": "stderr",
     "output_type": "stream",
     "text": [
      " * Running on http://127.0.0.1:5000/ (Press CTRL+C to quit)\n",
      "127.0.0.1 - - [20/Apr/2021 15:05:56] \"\u001b[33mGET / HTTP/1.1\u001b[0m\" 404 -\n",
      "127.0.0.1 - - [20/Apr/2021 15:05:56] \"\u001b[33mGET /favicon.ico HTTP/1.1\u001b[0m\" 404 -\n",
      "127.0.0.1 - - [20/Apr/2021 15:06:04] \"\u001b[37mGET /home/ HTTP/1.1\u001b[0m\" 200 -\n"
     ]
    }
   ],
   "source": [
    "app.run()"
   ]
  }
 ],
 "metadata": {
  "kernelspec": {
   "display_name": "Python 3",
   "language": "python",
   "name": "python3"
  },
  "language_info": {
   "codemirror_mode": {
    "name": "ipython",
    "version": 3
   },
   "file_extension": ".py",
   "mimetype": "text/x-python",
   "name": "python",
   "nbconvert_exporter": "python",
   "pygments_lexer": "ipython3",
   "version": "3.6.10"
  }
 },
 "nbformat": 4,
 "nbformat_minor": 5
}
