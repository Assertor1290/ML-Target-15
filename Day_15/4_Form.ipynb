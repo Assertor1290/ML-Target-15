{
 "cells": [
  {
   "cell_type": "code",
   "execution_count": 1,
   "id": "7710831b-01ed-4c50-92dc-3a48966bab89",
   "metadata": {},
   "outputs": [],
   "source": [
    "from flask import Flask, request, templating\n",
    "import random"
   ]
  },
  {
   "cell_type": "code",
   "execution_count": 2,
   "id": "d2ed45f6-4e53-4d1b-bc59-6f55b8990a17",
   "metadata": {},
   "outputs": [],
   "source": [
    "app = Flask(\"Assertor\")"
   ]
  },
  {
   "cell_type": "code",
   "execution_count": 3,
   "id": "a3303261-04cf-43dd-b76f-2a0c9da2e586",
   "metadata": {},
   "outputs": [],
   "source": [
    "data = {\n",
    "    \"life\" : [\n",
    "        \"Life is a joke\",\n",
    "        \"What are you doing today\",\n",
    "        \"Its a pleasant day\"\n",
    "    ],\n",
    "    \"love\" : [\n",
    "        \"I love you so much\",\n",
    "        \"Oh you are my dear\",\n",
    "        \"Everything is fair in love and war\",\n",
    "        \"Love is business\"\n",
    "    ]\n",
    "}"
   ]
  },
  {
   "cell_type": "code",
   "execution_count": 4,
   "id": "afb212d3-77fc-4c1b-bc96-bb3936acd72c",
   "metadata": {},
   "outputs": [],
   "source": [
    "@app.route(\"/\")\n",
    "def hello():\n",
    "    return templating.render_template(\"form.html\")\n",
    "\n",
    "@app.route(\"/submit/\")\n",
    "def submit_fn():\n",
    "    if request.args.get(\"topic\"):\n",
    "        li = data.get(request.args.get(\"topic\"))\n",
    "        if li:\n",
    "            return random.choice(li)\n",
    "        else:\n",
    "            return \"Choose topic from \" + \", \".join(list(data.keys()))\n",
    "    else:\n",
    "        return \"Please provide topic in query\""
   ]
  },
  {
   "cell_type": "code",
   "execution_count": 5,
   "id": "567c9eaf-fa31-43f2-b545-e7e722942333",
   "metadata": {},
   "outputs": [
    {
     "name": "stdout",
     "output_type": "stream",
     "text": [
      " * Serving Flask app \"Assertor\" (lazy loading)\n",
      " * Environment: production\n",
      "   WARNING: This is a development server. Do not use it in a production deployment.\n",
      "   Use a production WSGI server instead.\n",
      " * Debug mode: off\n"
     ]
    },
    {
     "name": "stderr",
     "output_type": "stream",
     "text": [
      " * Running on http://127.0.0.1:5000/ (Press CTRL+C to quit)\n",
      "127.0.0.1 - - [20/Apr/2021 18:06:29] \"\u001b[33mGET /action_page.php?email=jakraso201%40gmail.com&pwd=dreamcoding HTTP/1.1\u001b[0m\" 404 -\n",
      "127.0.0.1 - - [20/Apr/2021 18:06:35] \"\u001b[37mGET / HTTP/1.1\u001b[0m\" 200 -\n",
      "127.0.0.1 - - [20/Apr/2021 18:06:36] \"\u001b[37mGET / HTTP/1.1\u001b[0m\" 200 -\n",
      "127.0.0.1 - - [20/Apr/2021 18:07:04] \"\u001b[37mGET /submit/?topic=love HTTP/1.1\u001b[0m\" 200 -\n",
      "127.0.0.1 - - [20/Apr/2021 18:07:11] \"\u001b[37mGET /submit/?topic=love HTTP/1.1\u001b[0m\" 200 -\n"
     ]
    }
   ],
   "source": [
    "app.run()"
   ]
  }
 ],
 "metadata": {
  "kernelspec": {
   "display_name": "Python 3",
   "language": "python",
   "name": "python3"
  },
  "language_info": {
   "codemirror_mode": {
    "name": "ipython",
    "version": 3
   },
   "file_extension": ".py",
   "mimetype": "text/x-python",
   "name": "python",
   "nbconvert_exporter": "python",
   "pygments_lexer": "ipython3",
   "version": "3.6.10"
  }
 },
 "nbformat": 4,
 "nbformat_minor": 5
}
