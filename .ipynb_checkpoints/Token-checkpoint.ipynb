{
 "cells": [
  {
   "cell_type": "code",
   "execution_count": 6,
   "metadata": {},
   "outputs": [],
   "source": [
    "import requests\n",
    "import json\n",
    "\n",
    "url = \"https://api.github.com/user/repos\"\n",
    "\n",
    "token = \"0fa4d6830222e8e1dbacb0524584430cba01d232\""
   ]
  },
  {
   "cell_type": "code",
   "execution_count": 7,
   "metadata": {},
   "outputs": [],
   "source": [
    "headers = {\"Authorization\" : \"token {}\".format(token)}"
   ]
  },
  {
   "cell_type": "code",
   "execution_count": 12,
   "metadata": {},
   "outputs": [],
   "source": [
    "data = {\n",
    "    \"name\": \"Repo-workshop\",\n",
    "    \"private\": \"true\"\n",
    "}"
   ]
  },
  {
   "cell_type": "code",
   "execution_count": 19,
   "metadata": {},
   "outputs": [],
   "source": [
    "out = requests.post(url,data=json.dumps(data),headers=headers)"
   ]
  },
  {
   "cell_type": "code",
   "execution_count": 20,
   "metadata": {},
   "outputs": [
    {
     "data": {
      "text/plain": [
       "b'{\"id\":278165078,\"node_id\":\"MDEwOlJlcG9zaXRvcnkyNzgxNjUwNzg=\",\"name\":\"Repo-workshop\",\"full_name\":\"Assertor1290/Repo-workshop\",\"private\":true,\"owner\":{\"login\":\"Assertor1290\",\"id\":30290570,\"node_id\":\"MDQ6VXNlcjMwMjkwNTcw\",\"avatar_url\":\"https://avatars1.githubusercontent.com/u/30290570?v=4\",\"gravatar_id\":\"\",\"url\":\"https://api.github.com/users/Assertor1290\",\"html_url\":\"https://github.com/Assertor1290\",\"followers_url\":\"https://api.github.com/users/Assertor1290/followers\",\"following_url\":\"https://api.github.com/users/Assertor1290/following{/other_user}\",\"gists_url\":\"https://api.github.com/users/Assertor1290/gists{/gist_id}\",\"starred_url\":\"https://api.github.com/users/Assertor1290/starred{/owner}{/repo}\",\"subscriptions_url\":\"https://api.github.com/users/Assertor1290/subscriptions\",\"organizations_url\":\"https://api.github.com/users/Assertor1290/orgs\",\"repos_url\":\"https://api.github.com/users/Assertor1290/repos\",\"events_url\":\"https://api.github.com/users/Assertor1290/events{/privacy}\",\"received_events_url\":\"https://api.github.com/users/Assertor1290/received_events\",\"type\":\"User\",\"site_admin\":false},\"html_url\":\"https://github.com/Assertor1290/Repo-workshop\",\"description\":null,\"fork\":false,\"url\":\"https://api.github.com/repos/Assertor1290/Repo-workshop\",\"forks_url\":\"https://api.github.com/repos/Assertor1290/Repo-workshop/forks\",\"keys_url\":\"https://api.github.com/repos/Assertor1290/Repo-workshop/keys{/key_id}\",\"collaborators_url\":\"https://api.github.com/repos/Assertor1290/Repo-workshop/collaborators{/collaborator}\",\"teams_url\":\"https://api.github.com/repos/Assertor1290/Repo-workshop/teams\",\"hooks_url\":\"https://api.github.com/repos/Assertor1290/Repo-workshop/hooks\",\"issue_events_url\":\"https://api.github.com/repos/Assertor1290/Repo-workshop/issues/events{/number}\",\"events_url\":\"https://api.github.com/repos/Assertor1290/Repo-workshop/events\",\"assignees_url\":\"https://api.github.com/repos/Assertor1290/Repo-workshop/assignees{/user}\",\"branches_url\":\"https://api.github.com/repos/Assertor1290/Repo-workshop/branches{/branch}\",\"tags_url\":\"https://api.github.com/repos/Assertor1290/Repo-workshop/tags\",\"blobs_url\":\"https://api.github.com/repos/Assertor1290/Repo-workshop/git/blobs{/sha}\",\"git_tags_url\":\"https://api.github.com/repos/Assertor1290/Repo-workshop/git/tags{/sha}\",\"git_refs_url\":\"https://api.github.com/repos/Assertor1290/Repo-workshop/git/refs{/sha}\",\"trees_url\":\"https://api.github.com/repos/Assertor1290/Repo-workshop/git/trees{/sha}\",\"statuses_url\":\"https://api.github.com/repos/Assertor1290/Repo-workshop/statuses/{sha}\",\"languages_url\":\"https://api.github.com/repos/Assertor1290/Repo-workshop/languages\",\"stargazers_url\":\"https://api.github.com/repos/Assertor1290/Repo-workshop/stargazers\",\"contributors_url\":\"https://api.github.com/repos/Assertor1290/Repo-workshop/contributors\",\"subscribers_url\":\"https://api.github.com/repos/Assertor1290/Repo-workshop/subscribers\",\"subscription_url\":\"https://api.github.com/repos/Assertor1290/Repo-workshop/subscription\",\"commits_url\":\"https://api.github.com/repos/Assertor1290/Repo-workshop/commits{/sha}\",\"git_commits_url\":\"https://api.github.com/repos/Assertor1290/Repo-workshop/git/commits{/sha}\",\"comments_url\":\"https://api.github.com/repos/Assertor1290/Repo-workshop/comments{/number}\",\"issue_comment_url\":\"https://api.github.com/repos/Assertor1290/Repo-workshop/issues/comments{/number}\",\"contents_url\":\"https://api.github.com/repos/Assertor1290/Repo-workshop/contents/{+path}\",\"compare_url\":\"https://api.github.com/repos/Assertor1290/Repo-workshop/compare/{base}...{head}\",\"merges_url\":\"https://api.github.com/repos/Assertor1290/Repo-workshop/merges\",\"archive_url\":\"https://api.github.com/repos/Assertor1290/Repo-workshop/{archive_format}{/ref}\",\"downloads_url\":\"https://api.github.com/repos/Assertor1290/Repo-workshop/downloads\",\"issues_url\":\"https://api.github.com/repos/Assertor1290/Repo-workshop/issues{/number}\",\"pulls_url\":\"https://api.github.com/repos/Assertor1290/Repo-workshop/pulls{/number}\",\"milestones_url\":\"https://api.github.com/repos/Assertor1290/Repo-workshop/milestones{/number}\",\"notifications_url\":\"https://api.github.com/repos/Assertor1290/Repo-workshop/notifications{?since,all,participating}\",\"labels_url\":\"https://api.github.com/repos/Assertor1290/Repo-workshop/labels{/name}\",\"releases_url\":\"https://api.github.com/repos/Assertor1290/Repo-workshop/releases{/id}\",\"deployments_url\":\"https://api.github.com/repos/Assertor1290/Repo-workshop/deployments\",\"created_at\":\"2020-07-08T18:26:21Z\",\"updated_at\":\"2020-07-08T18:26:21Z\",\"pushed_at\":\"2020-07-08T18:26:22Z\",\"git_url\":\"git://github.com/Assertor1290/Repo-workshop.git\",\"ssh_url\":\"git@github.com:Assertor1290/Repo-workshop.git\",\"clone_url\":\"https://github.com/Assertor1290/Repo-workshop.git\",\"svn_url\":\"https://github.com/Assertor1290/Repo-workshop\",\"homepage\":null,\"size\":0,\"stargazers_count\":0,\"watchers_count\":0,\"language\":null,\"has_issues\":true,\"has_projects\":true,\"has_downloads\":true,\"has_wiki\":true,\"has_pages\":false,\"forks_count\":0,\"mirror_url\":null,\"archived\":false,\"disabled\":false,\"open_issues_count\":0,\"license\":null,\"forks\":0,\"open_issues\":0,\"watchers\":0,\"default_branch\":\"master\",\"permissions\":{\"admin\":true,\"push\":true,\"pull\":true},\"allow_squash_merge\":true,\"allow_merge_commit\":true,\"allow_rebase_merge\":true,\"delete_branch_on_merge\":false,\"network_count\":0,\"subscribers_count\":1}'"
      ]
     },
     "execution_count": 20,
     "metadata": {},
     "output_type": "execute_result"
    }
   ],
   "source": [
    "out.content"
   ]
  },
  {
   "cell_type": "code",
   "execution_count": null,
   "metadata": {},
   "outputs": [],
   "source": []
  }
 ],
 "metadata": {
  "kernelspec": {
   "display_name": "Python 3",
   "language": "python",
   "name": "python3"
  },
  "language_info": {
   "codemirror_mode": {
    "name": "ipython",
    "version": 3
   },
   "file_extension": ".py",
   "mimetype": "text/x-python",
   "name": "python",
   "nbconvert_exporter": "python",
   "pygments_lexer": "ipython3",
   "version": "3.5.0"
  }
 },
 "nbformat": 4,
 "nbformat_minor": 4
}
