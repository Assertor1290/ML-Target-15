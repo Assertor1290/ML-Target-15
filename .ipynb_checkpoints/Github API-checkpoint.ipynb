{
 "cells": [
  {
   "cell_type": "code",
   "execution_count": 31,
   "metadata": {},
   "outputs": [],
   "source": [
    "import requests\n",
    "import json\n",
    "\n",
    "url = \"https://api.github.com/repos/Assertor1290/Repo-workshop/issues\"\n",
    "url1 = \"https://api.github.com/repos/Assertor1290/Repo-workshop/issues/1/comments\"\n",
    "url2 =  \"https://api.github.com/repos/Assertor1290/Repo-workshop/issues/1\"\n",
    "\n",
    "# insert token here\n",
    "token = \"\"\n"
   ]
  },
  {
   "cell_type": "code",
   "execution_count": 32,
   "metadata": {},
   "outputs": [],
   "source": [
    "headers = {\"Authorization\" : \"token {}\".format(token)}"
   ]
  },
  {
   "cell_type": "code",
   "execution_count": 33,
   "metadata": {},
   "outputs": [],
   "source": [
    "# data to create an issue\n",
    "data = {\n",
    "    \"title\" : \"Github api issue\",\n",
    "    \"body\" : \"First issue created using Github api\"\n",
    "}\n",
    "\n",
    "# data to comment on an issue\n",
    "commentdata = {\n",
    "    \"body\" : \"Commenting on issue\"\n",
    "}\n",
    "\n",
    "# data to close an issue\n",
    "closeddata = {\n",
    "    \"title\" : \"Github api issue\",\n",
    "    \"state\" : \"Close issue\"\n",
    "}"
   ]
  },
  {
   "cell_type": "code",
   "execution_count": 38,
   "metadata": {},
   "outputs": [],
   "source": [
    "# requests.post(url,data=json.dumps(data),headers=headers)\n",
    "# requests.post(url1,data=json.dumps(commentdata),headers=headers)\n",
    "requests.patch(url2,json.dumps(closeddata),headers=headers)"
   ]
  },
  {
   "cell_type": "code",
   "execution_count": null,
   "metadata": {},
   "outputs": [],
   "source": []
  }
 ],
 "metadata": {
  "kernelspec": {
   "display_name": "Python 3",
   "language": "python",
   "name": "python3"
  },
  "language_info": {
   "codemirror_mode": {
    "name": "ipython",
    "version": 3
   },
   "file_extension": ".py",
   "mimetype": "text/x-python",
   "name": "python",
   "nbconvert_exporter": "python",
   "pygments_lexer": "ipython3",
   "version": "3.5.0"
  }
 },
 "nbformat": 4,
 "nbformat_minor": 4
}
